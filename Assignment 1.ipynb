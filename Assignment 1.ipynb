{
 "cells": [
  {
   "cell_type": "code",
   "execution_count": 66,
   "id": "ce037684-631b-44ef-8403-98fde4547433",
   "metadata": {},
   "outputs": [
    {
     "name": "stdout",
     "output_type": "stream",
     "text": [
      "Hello World!\n"
     ]
    }
   ],
   "source": [
    "#Practical Question\n",
    "#Question 1 : 48 Write a Python program to print \"Hello, World!y\n",
    "print(\"Hello World!\")"
   ]
  },
  {
   "cell_type": "code",
   "execution_count": 3,
   "id": "65545bd5-eb82-4c3a-8f2e-1e5b247289b8",
   "metadata": {},
   "outputs": [
    {
     "name": "stdout",
     "output_type": "stream",
     "text": [
      " Name Tanushree Jaiswal\n",
      " Age 23\n"
     ]
    }
   ],
   "source": [
    " # Question 2:  Write a Python program that displays your name and age8\n",
    "print(\" Name Tanushree Jaiswal\\n Age 23\")"
   ]
  },
  {
   "cell_type": "code",
   "execution_count": 2,
   "id": "3ca08419-747f-4977-a973-0e78e5cc57d4",
   "metadata": {},
   "outputs": [
    {
     "name": "stdout",
     "output_type": "stream",
     "text": [
      "['False', 'None', 'True', 'and', 'as', 'assert', 'async', 'await', 'break', 'class', 'continue', 'def', 'del', 'elif', 'else', 'except', 'finally', 'for', 'from', 'global', 'if', 'import', 'in', 'is', 'lambda', 'nonlocal', 'not', 'or', 'pass', 'raise', 'return', 'try', 'while', 'with', 'yield']\n"
     ]
    }
   ],
   "source": [
    "# Question 3 : Write code to print all the pre-defined keywords in Python using the keyword library8\n",
    "import keyword\n",
    "print(keyword.kwlist)"
   ]
  },
  {
   "cell_type": "code",
   "execution_count": 8,
   "id": "787c4158-9e7a-463d-91f4-c9c328fcfd85",
   "metadata": {},
   "outputs": [
    {
     "name": "stdout",
     "output_type": "stream",
     "text": [
      "True\n",
      "False\n"
     ]
    }
   ],
   "source": [
    "#Question 4 :Write a program that checks if a given word is a Python keyword.\n",
    "print (keyword.iskeyword(\"and\"))\n",
    "print ( keyword. iskeyword(\"the\"))"
   ]
  },
  {
   "cell_type": "code",
   "execution_count": 12,
   "id": "8f0e63ed-4173-443f-b130-3716d11570a7",
   "metadata": {},
   "outputs": [
    {
     "name": "stdout",
     "output_type": "stream",
     "text": [
      "3\n",
      "[1, 3, 2.5, 'Apple', 'False']\n"
     ]
    }
   ],
   "source": [
    "#Question 5:  Create a list and tuple in Python, and demonstrate how attempting to change an element works differently for each.\n",
    "a = [1, 2,2.5,\"Apple\", \"False\"]\n",
    "a[1] =3\n",
    "print (a[1])\n",
    "print (a)\n"
   ]
  },
  {
   "cell_type": "code",
   "execution_count": 13,
   "id": "4c16d016-dd00-43d8-9c8c-2444414bf967",
   "metadata": {},
   "outputs": [
    {
     "ename": "TypeError",
     "evalue": "'tuple' object does not support item assignment",
     "output_type": "error",
     "traceback": [
      "\u001b[1;31m---------------------------------------------------------------------------\u001b[0m",
      "\u001b[1;31mTypeError\u001b[0m                                 Traceback (most recent call last)",
      "Cell \u001b[1;32mIn[13], line 2\u001b[0m\n\u001b[0;32m      1\u001b[0m b \u001b[38;5;241m=\u001b[39m (\u001b[38;5;241m1\u001b[39m,\u001b[38;5;241m2\u001b[39m,\u001b[38;5;241m5\u001b[39m,\u001b[38;5;241m6\u001b[39m)\n\u001b[1;32m----> 2\u001b[0m \u001b[43mb\u001b[49m\u001b[43m[\u001b[49m\u001b[38;5;241;43m2\u001b[39;49m\u001b[43m]\u001b[49m\u001b[38;5;241m=\u001b[39m\u001b[38;5;241m4\u001b[39m\n\u001b[0;32m      3\u001b[0m \u001b[38;5;28mprint\u001b[39m (b[\u001b[38;5;241m2\u001b[39m])\n\u001b[0;32m      4\u001b[0m \u001b[38;5;28mprint\u001b[39m (b)\n",
      "\u001b[1;31mTypeError\u001b[0m: 'tuple' object does not support item assignment"
     ]
    }
   ],
   "source": [
    "b = (1,2,5,6)\n",
    "b[2]=4\n",
    "print (b[2])\n",
    "print (b)"
   ]
  },
  {
   "cell_type": "code",
   "execution_count": 14,
   "id": "071ae479-3907-4499-ab6d-0c18763b1dcb",
   "metadata": {},
   "outputs": [
    {
     "name": "stdout",
     "output_type": "stream",
     "text": [
      "3\n",
      "[1, 3, 2.5, 'Apple', 'False']\n"
     ]
    },
    {
     "ename": "TypeError",
     "evalue": "'tuple' object does not support item assignment",
     "output_type": "error",
     "traceback": [
      "\u001b[1;31m---------------------------------------------------------------------------\u001b[0m",
      "\u001b[1;31mTypeError\u001b[0m                                 Traceback (most recent call last)",
      "Cell \u001b[1;32mIn[14], line 9\u001b[0m\n\u001b[0;32m      7\u001b[0m \u001b[38;5;28mprint\u001b[39m (a)\n\u001b[0;32m      8\u001b[0m \u001b[38;5;66;03m# Tuple is immutable therefore we cannot change it's value.\u001b[39;00m\n\u001b[1;32m----> 9\u001b[0m \u001b[43mb\u001b[49m\u001b[43m[\u001b[49m\u001b[38;5;241;43m2\u001b[39;49m\u001b[43m]\u001b[49m\u001b[38;5;241m=\u001b[39m\u001b[38;5;241m0\u001b[39m\n\u001b[0;32m     10\u001b[0m \u001b[38;5;28mprint\u001b[39m (b[\u001b[38;5;241m2\u001b[39m])\n\u001b[0;32m     11\u001b[0m \u001b[38;5;28mprint\u001b[39m (b)\n",
      "\u001b[1;31mTypeError\u001b[0m: 'tuple' object does not support item assignment"
     ]
    }
   ],
   "source": [
    "#Question 6 : Write a function to demonstrate the behavior of mutable and immutable arguments\n",
    "# List is mutable\n",
    "a = [1, 2,2.5,\"Apple\", \"False\"]\n",
    "b = (1,2,3,4)\n",
    "a[1] =3\n",
    "print (a[1])\n",
    "print (a)\n",
    "# Tuple is immutable therefore we cannot change it's value.\n",
    "b[2]=0\n",
    "print (b[2])\n",
    "print (b)"
   ]
  },
  {
   "cell_type": "code",
   "execution_count": 17,
   "id": "afedf442-f1e0-4596-bfb3-a2dbb5339c5b",
   "metadata": {},
   "outputs": [
    {
     "name": "stdout",
     "output_type": "stream",
     "text": [
      " write a number 4\n",
      "write another number 8\n"
     ]
    },
    {
     "name": "stdout",
     "output_type": "stream",
     "text": [
      "12\n"
     ]
    }
   ],
   "source": [
    "# Question 7 : Write a program that performs basic arithmetic operations on two user-input numbers\n",
    "a = int (input(\" write a number\"))\n",
    "b = int( input( \"write another number\"))\n",
    "print (a+b)"
   ]
  },
  {
   "cell_type": "code",
   "execution_count": 20,
   "id": "8ea19862-d543-4193-8d4e-92057bfe65ec",
   "metadata": {},
   "outputs": [
    {
     "name": "stdout",
     "output_type": "stream",
     "text": [
      "False\n",
      "True\n",
      "False\n",
      "False\n"
     ]
    }
   ],
   "source": [
    "# Question 8 : Write a program to demonstrate the use of logical operator\n",
    "print (True and False)\n",
    "print (True and True)\n",
    "print (False and True)\n",
    "print (False and False)"
   ]
  },
  {
   "cell_type": "code",
   "execution_count": 21,
   "id": "51d6990a-c3ff-476c-9aef-0a66385c093e",
   "metadata": {},
   "outputs": [
    {
     "name": "stdout",
     "output_type": "stream",
     "text": [
      "True\n",
      "True\n",
      "True\n",
      "False\n"
     ]
    }
   ],
   "source": [
    "#Similarly\n",
    "print (True or False)\n",
    "print (True or True)\n",
    "print (False or True)\n",
    "print (False or False)"
   ]
  },
  {
   "cell_type": "code",
   "execution_count": 33,
   "id": "d32840ee-6ca5-4306-b729-4a4c737fac06",
   "metadata": {},
   "outputs": [
    {
     "name": "stdout",
     "output_type": "stream",
     "text": [
      "write anything 5\n"
     ]
    },
    {
     "name": "stdout",
     "output_type": "stream",
     "text": [
      "5\n",
      "5.0\n",
      "True\n"
     ]
    },
    {
     "data": {
      "text/plain": [
       "str"
      ]
     },
     "execution_count": 33,
     "metadata": {},
     "output_type": "execute_result"
    }
   ],
   "source": [
    "#Question 9: Write a Python program to convert user input from string to integer, float, and boolean types.\n",
    "a = input (\"write anything\")\n",
    "print(int(a))\n",
    "print(float(a))\n",
    "print(bool(a))\n",
    "type(a)"
   ]
  },
  {
   "cell_type": "code",
   "execution_count": 39,
   "id": "9451347e-95fd-4ccd-8796-fba20f3bad1a",
   "metadata": {},
   "outputs": [
    {
     "data": {
      "text/plain": [
       "list"
      ]
     },
     "execution_count": 39,
     "metadata": {},
     "output_type": "execute_result"
    }
   ],
   "source": [
    "#Question 10 : Write code to demonstrate type casting with list elements\n",
    "a = [1,2.0,\"5\", \"Apple\",\"True\"]\n",
    "type(a)\n"
   ]
  },
  {
   "cell_type": "code",
   "execution_count": 40,
   "id": "deb0ee24-1f72-434d-841f-df0b277c919e",
   "metadata": {},
   "outputs": [
    {
     "data": {
      "text/plain": [
       "str"
      ]
     },
     "execution_count": 40,
     "metadata": {},
     "output_type": "execute_result"
    }
   ],
   "source": [
    "type(a[2])"
   ]
  },
  {
   "cell_type": "code",
   "execution_count": 41,
   "id": "ecf404a3-ab19-46e2-8a94-66fe4078415e",
   "metadata": {},
   "outputs": [
    {
     "data": {
      "text/plain": [
       "int"
      ]
     },
     "execution_count": 41,
     "metadata": {},
     "output_type": "execute_result"
    }
   ],
   "source": [
    "a[2]=int(a[2])\n",
    "type(a[2])         "
   ]
  },
  {
   "cell_type": "code",
   "execution_count": 48,
   "id": "f1bb0258-cf09-4d1c-be34-9fb20544dd62",
   "metadata": {},
   "outputs": [
    {
     "name": "stdout",
     "output_type": "stream",
     "text": [
      "write a number -5\n"
     ]
    },
    {
     "name": "stdout",
     "output_type": "stream",
     "text": [
      "The number is Negative\n"
     ]
    }
   ],
   "source": [
    "#Question 11 : Write a program that checks if a number is positive, negative, or zero.\n",
    "a = int(input(\"write a number\"))\n",
    "if a<0:\n",
    "    print(\"The number is Negative\")\n",
    "elif a==0:\n",
    "    print (\"The number is Zero\")\n",
    "else:\n",
    "    print(\"The number is Positive\")\n"
   ]
  },
  {
   "cell_type": "code",
   "execution_count": 53,
   "id": "f32650ff-3df0-4fc8-8ab3-780c440dba5e",
   "metadata": {
    "scrolled": true
   },
   "outputs": [
    {
     "name": "stdout",
     "output_type": "stream",
     "text": [
      "1\n",
      "2\n",
      "3\n",
      "4\n",
      "5\n",
      "6\n",
      "7\n",
      "8\n",
      "9\n",
      "10\n"
     ]
    }
   ],
   "source": [
    "# Question 12 : Write a for loop to print numbers from 1 to 10\n",
    "for i in range(1,11):\n",
    "    print(i)"
   ]
  },
  {
   "cell_type": "code",
   "execution_count": 56,
   "id": "f2c22b23-7614-4f3a-8f4e-731944c66229",
   "metadata": {},
   "outputs": [
    {
     "name": "stdout",
     "output_type": "stream",
     "text": [
      "600\n"
     ]
    }
   ],
   "source": [
    "#Question 13 :  Write a Python program to find the sum of all even numbers between 1 and 50\n",
    "sum1 =0\n",
    "for i in range (50):\n",
    "    if i%2==0:\n",
    "        sum1 = sum1+i\n",
    "print (sum1)\n",
    "\n",
    "     "
   ]
  },
  {
   "cell_type": "code",
   "execution_count": 58,
   "id": "d9914735-c804-4f16-a37e-af8334b24d4e",
   "metadata": {},
   "outputs": [
    {
     "name": "stdout",
     "output_type": "stream",
     "text": [
      "eerhsunaT\n"
     ]
    }
   ],
   "source": [
    "#Question 14:  Write a program to reverse a string using a while loop.\n",
    "a = \"Tanushree\"\n",
    "print(a[::-1])"
   ]
  },
  {
   "cell_type": "code",
   "execution_count": 65,
   "id": "a0b8d527-359b-464e-bfde-56e662e62c99",
   "metadata": {},
   "outputs": [
    {
     "name": "stdout",
     "output_type": "stream",
     "text": [
      "Enter a number 0\n"
     ]
    },
    {
     "name": "stdout",
     "output_type": "stream",
     "text": [
      "1\n"
     ]
    }
   ],
   "source": [
    "#Question 15: Write a Python program to calculate the factorial of a number provided by the user using a while loop.\n",
    "n = int(input(\"Enter a number\"))\n",
    "pro= 1\n",
    "for i in range (1,n+1):\n",
    "    pro = pro*i\n",
    "print(pro)\n"
   ]
  },
  {
   "cell_type": "code",
   "execution_count": null,
   "id": "385f8a25-5e4e-4dff-840e-5b4c2ffb591a",
   "metadata": {},
   "outputs": [],
   "source": [
    "#Python Basics Questions\n",
    "# Question 1: What is Python, and why is it popular?\n",
    "# Answer: Python is a programming language that is develop in '1991' by Gerdo van Rossum, which is  popular because it's easy to learn, versatile, and has a large community of users"
   ]
  },
  {
   "cell_type": "code",
   "execution_count": null,
   "id": "4eb6c403-dc2d-4996-ba0c-b32f6e12c8a8",
   "metadata": {},
   "outputs": [],
   "source": [
    "# Question 2 :What is an interpreter in Python \n",
    "# Answer: A Python interpreter is a program that reads and executes Python code."
   ]
  },
  {
   "cell_type": "code",
   "execution_count": null,
   "id": "ebc30fb9-99a6-42ad-bea2-b5614dbfadce",
   "metadata": {},
   "outputs": [],
   "source": [
    "# Question 3: What are pre-defined keywords in Python \n",
    "# Answer: predefined reserved words with special meanings so the interpreter can understand them. They perform specific tasks in Python programming and are a part of its syntax."
   ]
  },
  {
   "cell_type": "code",
   "execution_count": null,
   "id": "09285922-b765-43cf-a28b-11742325bd52",
   "metadata": {},
   "outputs": [],
   "source": [
    "# Question 4: Can keywords be used as variable names \n",
    "# Answer: No, keywords cannot be used as variable names because they are reserved for performing specific task."
   ]
  },
  {
   "cell_type": "code",
   "execution_count": null,
   "id": "6ed8348f-b465-453f-a971-e8766d5fa4d0",
   "metadata": {},
   "outputs": [],
   "source": [
    "# Question 5: What is mutability in Python \n",
    "# Answer: The ability of an object to change after it has been created. example: list"
   ]
  },
  {
   "cell_type": "code",
   "execution_count": null,
   "id": "aed6dfe0-d35b-40b7-8c46-a13707b20c04",
   "metadata": {},
   "outputs": [],
   "source": [
    "# Question 6: Why are lists mutable, but tuples are immutable \n",
    "# Answer: Tuples and lists are the same in every way except two: tuples use parentheses instead of square brackets, and the items in tuples cannot be modified"
   ]
  },
  {
   "cell_type": "code",
   "execution_count": null,
   "id": "a3a6f3f6-2738-4bdb-b223-aa1a06f669c6",
   "metadata": {},
   "outputs": [],
   "source": [
    "# Question 7: What is the difference between “==” and “is” operators in Python \n",
    "# Answer: In Python, \"==\" checks if two objects have the same value (equality), while \"is\" checks if two variables point to the exact same object in memory (identity); essentially, \"==\" compares the content of objects, while \"is\" compares their memory locations"
   ]
  },
  {
   "cell_type": "code",
   "execution_count": null,
   "id": "14b16b09-caa5-4749-98e3-b69c5efb23ea",
   "metadata": {},
   "outputs": [],
   "source": [
    "# Question 8: What are logical operators in Python\n",
    "# Answer: Logical operators in Python are symbols or words that combine multiple conditions into a single boolean expression. They are of three types (and, or, not)\n",
    "          "
   ]
  },
  {
   "cell_type": "code",
   "execution_count": null,
   "id": "7410e9b3-a7d1-4c1b-97eb-bf0283fef020",
   "metadata": {},
   "outputs": [],
   "source": [
    "# Question 9: What is type casting in Python \n",
    "# Answer : The process of changing a variable's data type to another."
   ]
  },
  {
   "cell_type": "code",
   "execution_count": null,
   "id": "6867480e-aa2b-4426-851b-a7c358395d4e",
   "metadata": {},
   "outputs": [],
   "source": [
    "# Question 10: What is the difference between implicit and explicit type casting \n",
    "# Answer: mplicit type casting is often used to convert smaller data types to larger data types, while explicit type casting is used to convert larger data types to smaller data types. "
   ]
  },
  {
   "cell_type": "code",
   "execution_count": null,
   "id": "51071b28-ec0e-4b13-b799-6344af1a576d",
   "metadata": {},
   "outputs": [],
   "source": [
    "# Question 11: What is the purpose of conditional statements in Python \n",
    "# Answer: Conditional statements in Python control the flow of a program by executing code based on certain conditions. They help make code more efficient and easier to read. "
   ]
  },
  {
   "cell_type": "code",
   "execution_count": null,
   "id": "4e2a245a-f30e-46e6-bee1-f925ecf751bd",
   "metadata": {},
   "outputs": [],
   "source": [
    "# Question 12:  How does the elif statement work \n",
    "# Answer: The “elif” keyword in Python, stands for “else if”. It can be used in conditional statements to check for multiple conditions. For example, if the first condition is false, it moves on to the next “elif” statement to check if that condition is true."
   ]
  },
  {
   "cell_type": "code",
   "execution_count": null,
   "id": "5964a236-6e31-421d-9569-7172a5c97947",
   "metadata": {},
   "outputs": [],
   "source": [
    "# Question 13: What is the difference between for and while loops \n",
    "# Answer: We use the for loop when the increment and initialization are very simple. We use the while loop in the case of a complex initialization."
   ]
  },
  {
   "cell_type": "code",
   "execution_count": null,
   "id": "3287a903-c90c-4c8e-b401-c29288d34204",
   "metadata": {},
   "outputs": [],
   "source": [
    "# Question 14 \n",
    "#Answer : contrast to a 'for' loop, which is generally used when the number of iterations is known beforehand, a 'while' loop is ideal for situations where the number of iterations is not predetermined and depends on some dynamic condition."
   ]
  },
  {
   "cell_type": "code",
   "execution_count": null,
   "id": "650ec1b3-8a81-469f-b83e-8bef9b7aa8b2",
   "metadata": {},
   "outputs": [],
   "source": []
  }
 ],
 "metadata": {
  "kernelspec": {
   "display_name": "Python 3 (ipykernel)",
   "language": "python",
   "name": "python3"
  },
  "language_info": {
   "codemirror_mode": {
    "name": "ipython",
    "version": 3
   },
   "file_extension": ".py",
   "mimetype": "text/x-python",
   "name": "python",
   "nbconvert_exporter": "python",
   "pygments_lexer": "ipython3",
   "version": "3.11.5"
  }
 },
 "nbformat": 4,
 "nbformat_minor": 5
}
